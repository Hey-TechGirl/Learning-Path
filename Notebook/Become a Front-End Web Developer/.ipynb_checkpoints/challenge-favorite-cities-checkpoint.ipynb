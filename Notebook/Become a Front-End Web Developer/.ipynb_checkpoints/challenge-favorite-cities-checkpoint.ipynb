{
 "cells": [
  {
   "cell_type": "code",
   "execution_count": 4,
   "metadata": {},
   "outputs": [
    {
     "name": "stdout",
     "output_type": "stream",
     "text": [
      "One of my favorite cities is São Paulo.\n",
      "One of my favorite cities is Helsinki.\n",
      "One of my favorite cities is Turku.\n"
     ]
    }
   ],
   "source": [
    "def favorite_city(name):\n",
    "    print(\"One of my favorite cities is\", name, end='.\\n')\n",
    "\n",
    "\n",
    "favorite_city(\"São Paulo\")\n",
    "favorite_city(\"Helsinki\")\n",
    "favorite_city(\"Turku\")"
   ]
  }
 ],
 "metadata": {
  "kernelspec": {
   "display_name": "Python 3",
   "language": "python",
   "name": "python3"
  },
  "language_info": {
   "codemirror_mode": {
    "name": "ipython",
    "version": 3
   },
   "file_extension": ".py",
   "mimetype": "text/x-python",
   "name": "python",
   "nbconvert_exporter": "python",
   "pygments_lexer": "ipython3",
   "version": "3.7.3"
  }
 },
 "nbformat": 4,
 "nbformat_minor": 2
}
